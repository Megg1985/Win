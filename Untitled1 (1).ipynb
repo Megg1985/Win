{
 "cells": [
  {
   "cell_type": "markdown",
   "id": "506fc79c-40d6-4753-80de-57ce00f4b699",
   "metadata": {},
   "source": [
    "# My Jupyter Notebook on IBM Watson Studio"
   ]
  },
  {
   "cell_type": "markdown",
   "id": "8bb936ff-cbf5-485f-b7e3-0e768397a06d",
   "metadata": {},
   "source": [
    "**Mamakobane**, Data Analyst"
   ]
  },
  {
   "cell_type": "markdown",
   "id": "672ad108-1125-46fb-8fac-b866125d8ee9",
   "metadata": {},
   "source": [
    "*I am interested in data science because I want to start a new career*\n",
    "\n"
   ]
  },
  {
   "cell_type": "markdown",
   "id": "ca4881aa-e265-478a-ae14-03d1d7da40c1",
   "metadata": {},
   "source": [
    "### Increase value by 1"
   ]
  },
  {
   "cell_type": "code",
   "execution_count": 4,
   "id": "a193d9f9-202d-49ec-88bd-281cef5c3cb4",
   "metadata": {},
   "outputs": [
    {
     "name": "stdout",
     "output_type": "stream",
     "text": [
      "13\n"
     ]
    }
   ],
   "source": [
    "x = 12\n",
    "x+=1 \n",
    "print(x)"
   ]
  },
  {
   "cell_type": "code",
   "execution_count": null,
   "id": "8dfde110-d413-4621-b448-452e2862c5bd",
   "metadata": {},
   "outputs": [],
   "source": [
    "|Col 1| Col 2| Col 3|\n",
    "|:---:|:---: |:---: |\n",
    "|  6  |7| "
   ]
  }
 ],
 "metadata": {
  "kernelspec": {
   "display_name": "Python",
   "language": "python",
   "name": "conda-env-python-py"
  },
  "language_info": {
   "codemirror_mode": {
    "name": "ipython",
    "version": 3
   },
   "file_extension": ".py",
   "mimetype": "text/x-python",
   "name": "python",
   "nbconvert_exporter": "python",
   "pygments_lexer": "ipython3",
   "version": "3.7.12"
  }
 },
 "nbformat": 4,
 "nbformat_minor": 5
}
